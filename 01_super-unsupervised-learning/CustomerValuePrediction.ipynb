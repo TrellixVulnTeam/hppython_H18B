{
 "cells": [
  {
   "cell_type": "code",
   "execution_count": 1,
   "metadata": {},
   "outputs": [],
   "source": [
    "%matplotlib inline\n",
    "import numpy as np\n",
    "import pandas as pd\n",
    "import matplotlib.pyplot as plt\n",
    "import seaborn as sns; sns.set()"
   ]
  },
  {
   "cell_type": "code",
   "execution_count": 2,
   "metadata": {},
   "outputs": [],
   "source": [
    "ecommerce = pd.read_csv(\"data_clean.csv\", encoding = \"ISO-8859-1\")"
   ]
  },
  {
   "cell_type": "code",
   "execution_count": 3,
   "metadata": {
    "scrolled": false
   },
   "outputs": [
    {
     "data": {
      "text/html": [
       "<div>\n",
       "<style scoped>\n",
       "    .dataframe tbody tr th:only-of-type {\n",
       "        vertical-align: middle;\n",
       "    }\n",
       "\n",
       "    .dataframe tbody tr th {\n",
       "        vertical-align: top;\n",
       "    }\n",
       "\n",
       "    .dataframe thead th {\n",
       "        text-align: right;\n",
       "    }\n",
       "</style>\n",
       "<table border=\"1\" class=\"dataframe\">\n",
       "  <thead>\n",
       "    <tr style=\"text-align: right;\">\n",
       "      <th></th>\n",
       "      <th>Unnamed: 0</th>\n",
       "      <th>InvoiceNo</th>\n",
       "      <th>StockCode</th>\n",
       "      <th>Description</th>\n",
       "      <th>Quantity</th>\n",
       "      <th>InvoiceDate</th>\n",
       "      <th>UnitPrice</th>\n",
       "      <th>CustomerID</th>\n",
       "      <th>Country</th>\n",
       "      <th>TotalPrice</th>\n",
       "    </tr>\n",
       "  </thead>\n",
       "  <tbody>\n",
       "    <tr>\n",
       "      <th>0</th>\n",
       "      <td>0</td>\n",
       "      <td>536365</td>\n",
       "      <td>85123A</td>\n",
       "      <td>WHITE HANGING HEART T-LIGHT HOLDER</td>\n",
       "      <td>6</td>\n",
       "      <td>2010-12-01 08:26:00</td>\n",
       "      <td>2.55</td>\n",
       "      <td>17850</td>\n",
       "      <td>United Kingdom</td>\n",
       "      <td>15.30</td>\n",
       "    </tr>\n",
       "    <tr>\n",
       "      <th>1</th>\n",
       "      <td>1</td>\n",
       "      <td>536365</td>\n",
       "      <td>71053</td>\n",
       "      <td>WHITE METAL LANTERN</td>\n",
       "      <td>6</td>\n",
       "      <td>2010-12-01 08:26:00</td>\n",
       "      <td>3.39</td>\n",
       "      <td>17850</td>\n",
       "      <td>United Kingdom</td>\n",
       "      <td>20.34</td>\n",
       "    </tr>\n",
       "    <tr>\n",
       "      <th>2</th>\n",
       "      <td>2</td>\n",
       "      <td>536365</td>\n",
       "      <td>84406B</td>\n",
       "      <td>CREAM CUPID HEARTS COAT HANGER</td>\n",
       "      <td>8</td>\n",
       "      <td>2010-12-01 08:26:00</td>\n",
       "      <td>2.75</td>\n",
       "      <td>17850</td>\n",
       "      <td>United Kingdom</td>\n",
       "      <td>22.00</td>\n",
       "    </tr>\n",
       "    <tr>\n",
       "      <th>3</th>\n",
       "      <td>3</td>\n",
       "      <td>536365</td>\n",
       "      <td>84029G</td>\n",
       "      <td>KNITTED UNION FLAG HOT WATER BOTTLE</td>\n",
       "      <td>6</td>\n",
       "      <td>2010-12-01 08:26:00</td>\n",
       "      <td>3.39</td>\n",
       "      <td>17850</td>\n",
       "      <td>United Kingdom</td>\n",
       "      <td>20.34</td>\n",
       "    </tr>\n",
       "    <tr>\n",
       "      <th>4</th>\n",
       "      <td>4</td>\n",
       "      <td>536365</td>\n",
       "      <td>84029E</td>\n",
       "      <td>RED WOOLLY HOTTIE WHITE HEART.</td>\n",
       "      <td>6</td>\n",
       "      <td>2010-12-01 08:26:00</td>\n",
       "      <td>3.39</td>\n",
       "      <td>17850</td>\n",
       "      <td>United Kingdom</td>\n",
       "      <td>20.34</td>\n",
       "    </tr>\n",
       "  </tbody>\n",
       "</table>\n",
       "</div>"
      ],
      "text/plain": [
       "   Unnamed: 0  InvoiceNo StockCode                          Description  \\\n",
       "0           0     536365    85123A   WHITE HANGING HEART T-LIGHT HOLDER   \n",
       "1           1     536365     71053                  WHITE METAL LANTERN   \n",
       "2           2     536365    84406B       CREAM CUPID HEARTS COAT HANGER   \n",
       "3           3     536365    84029G  KNITTED UNION FLAG HOT WATER BOTTLE   \n",
       "4           4     536365    84029E       RED WOOLLY HOTTIE WHITE HEART.   \n",
       "\n",
       "   Quantity          InvoiceDate  UnitPrice  CustomerID         Country  \\\n",
       "0         6  2010-12-01 08:26:00       2.55       17850  United Kingdom   \n",
       "1         6  2010-12-01 08:26:00       3.39       17850  United Kingdom   \n",
       "2         8  2010-12-01 08:26:00       2.75       17850  United Kingdom   \n",
       "3         6  2010-12-01 08:26:00       3.39       17850  United Kingdom   \n",
       "4         6  2010-12-01 08:26:00       3.39       17850  United Kingdom   \n",
       "\n",
       "   TotalPrice  \n",
       "0       15.30  \n",
       "1       20.34  \n",
       "2       22.00  \n",
       "3       20.34  \n",
       "4       20.34  "
      ]
     },
     "execution_count": 3,
     "metadata": {},
     "output_type": "execute_result"
    }
   ],
   "source": [
    "ecommerce.head()"
   ]
  },
  {
   "cell_type": "code",
   "execution_count": 4,
   "metadata": {},
   "outputs": [
    {
     "data": {
      "text/plain": [
       "Index(['Unnamed: 0', 'InvoiceNo', 'StockCode', 'Description', 'Quantity',\n",
       "       'InvoiceDate', 'UnitPrice', 'CustomerID', 'Country', 'TotalPrice'],\n",
       "      dtype='object')"
      ]
     },
     "execution_count": 4,
     "metadata": {},
     "output_type": "execute_result"
    }
   ],
   "source": [
    "ecommerce.columns"
   ]
  },
  {
   "cell_type": "code",
   "execution_count": 5,
   "metadata": {},
   "outputs": [
    {
     "data": {
      "text/html": [
       "<div>\n",
       "<style scoped>\n",
       "    .dataframe tbody tr th:only-of-type {\n",
       "        vertical-align: middle;\n",
       "    }\n",
       "\n",
       "    .dataframe tbody tr th {\n",
       "        vertical-align: top;\n",
       "    }\n",
       "\n",
       "    .dataframe thead th {\n",
       "        text-align: right;\n",
       "    }\n",
       "</style>\n",
       "<table border=\"1\" class=\"dataframe\">\n",
       "  <thead>\n",
       "    <tr style=\"text-align: right;\">\n",
       "      <th></th>\n",
       "      <th>InvoiceNo</th>\n",
       "      <th>StockCode</th>\n",
       "      <th>Description</th>\n",
       "      <th>Quantity</th>\n",
       "      <th>InvoiceDate</th>\n",
       "      <th>UnitPrice</th>\n",
       "      <th>CustomerID</th>\n",
       "      <th>Country</th>\n",
       "      <th>TotalPrice</th>\n",
       "    </tr>\n",
       "    <tr>\n",
       "      <th>Index</th>\n",
       "      <th></th>\n",
       "      <th></th>\n",
       "      <th></th>\n",
       "      <th></th>\n",
       "      <th></th>\n",
       "      <th></th>\n",
       "      <th></th>\n",
       "      <th></th>\n",
       "      <th></th>\n",
       "    </tr>\n",
       "  </thead>\n",
       "  <tbody>\n",
       "    <tr>\n",
       "      <th>0</th>\n",
       "      <td>536365</td>\n",
       "      <td>85123A</td>\n",
       "      <td>WHITE HANGING HEART T-LIGHT HOLDER</td>\n",
       "      <td>6</td>\n",
       "      <td>2010-12-01 08:26:00</td>\n",
       "      <td>2.55</td>\n",
       "      <td>17850</td>\n",
       "      <td>United Kingdom</td>\n",
       "      <td>15.30</td>\n",
       "    </tr>\n",
       "    <tr>\n",
       "      <th>1</th>\n",
       "      <td>536365</td>\n",
       "      <td>71053</td>\n",
       "      <td>WHITE METAL LANTERN</td>\n",
       "      <td>6</td>\n",
       "      <td>2010-12-01 08:26:00</td>\n",
       "      <td>3.39</td>\n",
       "      <td>17850</td>\n",
       "      <td>United Kingdom</td>\n",
       "      <td>20.34</td>\n",
       "    </tr>\n",
       "    <tr>\n",
       "      <th>2</th>\n",
       "      <td>536365</td>\n",
       "      <td>84406B</td>\n",
       "      <td>CREAM CUPID HEARTS COAT HANGER</td>\n",
       "      <td>8</td>\n",
       "      <td>2010-12-01 08:26:00</td>\n",
       "      <td>2.75</td>\n",
       "      <td>17850</td>\n",
       "      <td>United Kingdom</td>\n",
       "      <td>22.00</td>\n",
       "    </tr>\n",
       "    <tr>\n",
       "      <th>3</th>\n",
       "      <td>536365</td>\n",
       "      <td>84029G</td>\n",
       "      <td>KNITTED UNION FLAG HOT WATER BOTTLE</td>\n",
       "      <td>6</td>\n",
       "      <td>2010-12-01 08:26:00</td>\n",
       "      <td>3.39</td>\n",
       "      <td>17850</td>\n",
       "      <td>United Kingdom</td>\n",
       "      <td>20.34</td>\n",
       "    </tr>\n",
       "    <tr>\n",
       "      <th>4</th>\n",
       "      <td>536365</td>\n",
       "      <td>84029E</td>\n",
       "      <td>RED WOOLLY HOTTIE WHITE HEART.</td>\n",
       "      <td>6</td>\n",
       "      <td>2010-12-01 08:26:00</td>\n",
       "      <td>3.39</td>\n",
       "      <td>17850</td>\n",
       "      <td>United Kingdom</td>\n",
       "      <td>20.34</td>\n",
       "    </tr>\n",
       "  </tbody>\n",
       "</table>\n",
       "</div>"
      ],
      "text/plain": [
       "       InvoiceNo StockCode                          Description  Quantity  \\\n",
       "Index                                                                       \n",
       "0         536365    85123A   WHITE HANGING HEART T-LIGHT HOLDER         6   \n",
       "1         536365     71053                  WHITE METAL LANTERN         6   \n",
       "2         536365    84406B       CREAM CUPID HEARTS COAT HANGER         8   \n",
       "3         536365    84029G  KNITTED UNION FLAG HOT WATER BOTTLE         6   \n",
       "4         536365    84029E       RED WOOLLY HOTTIE WHITE HEART.         6   \n",
       "\n",
       "               InvoiceDate  UnitPrice  CustomerID         Country  TotalPrice  \n",
       "Index                                                                          \n",
       "0      2010-12-01 08:26:00       2.55       17850  United Kingdom       15.30  \n",
       "1      2010-12-01 08:26:00       3.39       17850  United Kingdom       20.34  \n",
       "2      2010-12-01 08:26:00       2.75       17850  United Kingdom       22.00  \n",
       "3      2010-12-01 08:26:00       3.39       17850  United Kingdom       20.34  \n",
       "4      2010-12-01 08:26:00       3.39       17850  United Kingdom       20.34  "
      ]
     },
     "execution_count": 5,
     "metadata": {},
     "output_type": "execute_result"
    }
   ],
   "source": [
    "ecommerce = ecommerce.rename(columns={'Unnamed: 0':'Index'})\n",
    "ecommerce.index = ecommerce['Index']\n",
    "ecommerce=ecommerce.drop(columns=['Index'])\n",
    "ecommerce.head()"
   ]
  },
  {
   "cell_type": "code",
   "execution_count": 6,
   "metadata": {
    "scrolled": false
   },
   "outputs": [
    {
     "name": "stdout",
     "output_type": "stream",
     "text": [
      "<class 'pandas.core.frame.DataFrame'>\n",
      "Int64Index: 392732 entries, 0 to 541908\n",
      "Data columns (total 9 columns):\n",
      "InvoiceNo      392732 non-null int64\n",
      "StockCode      392732 non-null object\n",
      "Description    392732 non-null object\n",
      "Quantity       392732 non-null int64\n",
      "InvoiceDate    392732 non-null object\n",
      "UnitPrice      392732 non-null float64\n",
      "CustomerID     392732 non-null int64\n",
      "Country        392732 non-null object\n",
      "TotalPrice     392732 non-null float64\n",
      "dtypes: float64(2), int64(3), object(4)\n",
      "memory usage: 30.0+ MB\n"
     ]
    }
   ],
   "source": [
    "ecommerce.info()"
   ]
  },
  {
   "cell_type": "code",
   "execution_count": 7,
   "metadata": {},
   "outputs": [
    {
     "name": "stdout",
     "output_type": "stream",
     "text": [
      "<class 'pandas.core.frame.DataFrame'>\n",
      "Int64Index: 392732 entries, 0 to 541908\n",
      "Data columns (total 9 columns):\n",
      "InvoiceNo      392732 non-null int64\n",
      "StockCode      392732 non-null object\n",
      "Description    392732 non-null object\n",
      "Quantity       392732 non-null int64\n",
      "InvoiceDate    392732 non-null datetime64[ns]\n",
      "UnitPrice      392732 non-null float64\n",
      "CustomerID     392732 non-null object\n",
      "Country        392732 non-null object\n",
      "TotalPrice     392732 non-null float64\n",
      "dtypes: datetime64[ns](1), float64(2), int64(2), object(4)\n",
      "memory usage: 30.0+ MB\n"
     ]
    }
   ],
   "source": [
    "ecommerce[\"CustomerID\"] = ecommerce[\"CustomerID\"].astype(str)\n",
    "ecommerce[\"InvoiceDate\"] = pd.to_datetime(ecommerce[\"InvoiceDate\"])\n",
    "ecommerce.info()"
   ]
  },
  {
   "cell_type": "code",
   "execution_count": 8,
   "metadata": {},
   "outputs": [
    {
     "data": {
      "text/html": [
       "<div>\n",
       "<style scoped>\n",
       "    .dataframe tbody tr th:only-of-type {\n",
       "        vertical-align: middle;\n",
       "    }\n",
       "\n",
       "    .dataframe tbody tr th {\n",
       "        vertical-align: top;\n",
       "    }\n",
       "\n",
       "    .dataframe thead th {\n",
       "        text-align: right;\n",
       "    }\n",
       "</style>\n",
       "<table border=\"1\" class=\"dataframe\">\n",
       "  <thead>\n",
       "    <tr style=\"text-align: right;\">\n",
       "      <th></th>\n",
       "      <th>InvoiceNo</th>\n",
       "      <th>StockCode</th>\n",
       "      <th>Description</th>\n",
       "      <th>Quantity</th>\n",
       "      <th>InvoiceDate</th>\n",
       "      <th>UnitPrice</th>\n",
       "      <th>CustomerID</th>\n",
       "      <th>Country</th>\n",
       "      <th>TotalPrice</th>\n",
       "    </tr>\n",
       "    <tr>\n",
       "      <th>Index</th>\n",
       "      <th></th>\n",
       "      <th></th>\n",
       "      <th></th>\n",
       "      <th></th>\n",
       "      <th></th>\n",
       "      <th></th>\n",
       "      <th></th>\n",
       "      <th></th>\n",
       "      <th></th>\n",
       "    </tr>\n",
       "  </thead>\n",
       "  <tbody>\n",
       "    <tr>\n",
       "      <th>0</th>\n",
       "      <td>536365</td>\n",
       "      <td>85123A</td>\n",
       "      <td>WHITE HANGING HEART T-LIGHT HOLDER</td>\n",
       "      <td>6</td>\n",
       "      <td>2010-12-01 08:26:00</td>\n",
       "      <td>2.55</td>\n",
       "      <td>17850</td>\n",
       "      <td>United Kingdom</td>\n",
       "      <td>15.30</td>\n",
       "    </tr>\n",
       "    <tr>\n",
       "      <th>1</th>\n",
       "      <td>536365</td>\n",
       "      <td>71053</td>\n",
       "      <td>WHITE METAL LANTERN</td>\n",
       "      <td>6</td>\n",
       "      <td>2010-12-01 08:26:00</td>\n",
       "      <td>3.39</td>\n",
       "      <td>17850</td>\n",
       "      <td>United Kingdom</td>\n",
       "      <td>20.34</td>\n",
       "    </tr>\n",
       "    <tr>\n",
       "      <th>2</th>\n",
       "      <td>536365</td>\n",
       "      <td>84406B</td>\n",
       "      <td>CREAM CUPID HEARTS COAT HANGER</td>\n",
       "      <td>8</td>\n",
       "      <td>2010-12-01 08:26:00</td>\n",
       "      <td>2.75</td>\n",
       "      <td>17850</td>\n",
       "      <td>United Kingdom</td>\n",
       "      <td>22.00</td>\n",
       "    </tr>\n",
       "    <tr>\n",
       "      <th>3</th>\n",
       "      <td>536365</td>\n",
       "      <td>84029G</td>\n",
       "      <td>KNITTED UNION FLAG HOT WATER BOTTLE</td>\n",
       "      <td>6</td>\n",
       "      <td>2010-12-01 08:26:00</td>\n",
       "      <td>3.39</td>\n",
       "      <td>17850</td>\n",
       "      <td>United Kingdom</td>\n",
       "      <td>20.34</td>\n",
       "    </tr>\n",
       "    <tr>\n",
       "      <th>4</th>\n",
       "      <td>536365</td>\n",
       "      <td>84029E</td>\n",
       "      <td>RED WOOLLY HOTTIE WHITE HEART.</td>\n",
       "      <td>6</td>\n",
       "      <td>2010-12-01 08:26:00</td>\n",
       "      <td>3.39</td>\n",
       "      <td>17850</td>\n",
       "      <td>United Kingdom</td>\n",
       "      <td>20.34</td>\n",
       "    </tr>\n",
       "  </tbody>\n",
       "</table>\n",
       "</div>"
      ],
      "text/plain": [
       "       InvoiceNo StockCode                          Description  Quantity  \\\n",
       "Index                                                                       \n",
       "0         536365    85123A   WHITE HANGING HEART T-LIGHT HOLDER         6   \n",
       "1         536365     71053                  WHITE METAL LANTERN         6   \n",
       "2         536365    84406B       CREAM CUPID HEARTS COAT HANGER         8   \n",
       "3         536365    84029G  KNITTED UNION FLAG HOT WATER BOTTLE         6   \n",
       "4         536365    84029E       RED WOOLLY HOTTIE WHITE HEART.         6   \n",
       "\n",
       "              InvoiceDate  UnitPrice CustomerID         Country  TotalPrice  \n",
       "Index                                                                        \n",
       "0     2010-12-01 08:26:00       2.55      17850  United Kingdom       15.30  \n",
       "1     2010-12-01 08:26:00       3.39      17850  United Kingdom       20.34  \n",
       "2     2010-12-01 08:26:00       2.75      17850  United Kingdom       22.00  \n",
       "3     2010-12-01 08:26:00       3.39      17850  United Kingdom       20.34  \n",
       "4     2010-12-01 08:26:00       3.39      17850  United Kingdom       20.34  "
      ]
     },
     "execution_count": 8,
     "metadata": {},
     "output_type": "execute_result"
    }
   ],
   "source": [
    "ecommerce.head()"
   ]
  },
  {
   "cell_type": "code",
   "execution_count": 9,
   "metadata": {},
   "outputs": [
    {
     "data": {
      "text/plain": [
       "Timedelta('373 days 04:24:00')"
      ]
     },
     "execution_count": 9,
     "metadata": {},
     "output_type": "execute_result"
    }
   ],
   "source": [
    "max(ecommerce['InvoiceDate']) - min(ecommerce['InvoiceDate'])"
   ]
  },
  {
   "cell_type": "code",
   "execution_count": 10,
   "metadata": {},
   "outputs": [],
   "source": [
    "purchase_timespan = ecommerce.groupby(\"CustomerID\")[\"InvoiceDate\"]"
   ]
  },
  {
   "cell_type": "code",
   "execution_count": 11,
   "metadata": {},
   "outputs": [],
   "source": [
    "purchase_timespan = purchase_timespan.apply(lambda x:max(x)-min(x))"
   ]
  },
  {
   "cell_type": "code",
   "execution_count": 12,
   "metadata": {},
   "outputs": [
    {
     "data": {
      "text/plain": [
       "CustomerID\n",
       "15311   373 days 02:19:00\n",
       "12748   372 days 23:32:00\n",
       "12662   372 days 22:55:00\n",
       "12433   372 days 20:38:00\n",
       "13777   372 days 20:24:00\n",
       "14606   372 days 02:31:00\n",
       "15694   372 days 01:55:00\n",
       "14911   372 days 01:49:00\n",
       "16210   372 days 00:09:00\n",
       "13408   371 days 22:26:00\n",
       "17581   371 days 21:34:00\n",
       "17841   371 days 21:26:00\n",
       "13468   371 days 19:31:00\n",
       "13767   371 days 04:13:00\n",
       "15525   371 days 01:26:00\n",
       "14135   371 days 01:11:00\n",
       "17511   370 days 23:53:00\n",
       "12583   370 days 23:22:00\n",
       "13798   370 days 22:27:00\n",
       "17757   370 days 22:14:00\n",
       "16539   370 days 17:01:00\n",
       "17949   370 days 05:34:00\n",
       "13013   370 days 02:33:00\n",
       "16891   369 days 23:40:00\n",
       "17017   369 days 23:15:00\n",
       "17346   369 days 21:44:00\n",
       "13694   369 days 21:20:00\n",
       "14395   369 days 20:19:00\n",
       "17412   369 days 19:07:00\n",
       "17920   369 days 02:40:00\n",
       "               ...       \n",
       "14431     0 days 00:00:00\n",
       "16823     0 days 00:00:00\n",
       "14355     0 days 00:00:00\n",
       "14424     0 days 00:00:00\n",
       "14357     0 days 00:00:00\n",
       "14362     0 days 00:00:00\n",
       "14368     0 days 00:00:00\n",
       "14371     0 days 00:00:00\n",
       "14373     0 days 00:00:00\n",
       "14375     0 days 00:00:00\n",
       "14381     0 days 00:00:00\n",
       "14382     0 days 00:00:00\n",
       "14386     0 days 00:00:00\n",
       "16850     0 days 00:00:00\n",
       "16849     0 days 00:00:00\n",
       "14393     0 days 00:00:00\n",
       "16848     0 days 00:00:00\n",
       "16847     0 days 00:00:00\n",
       "16846     0 days 00:00:00\n",
       "14400     0 days 00:00:00\n",
       "14406     0 days 00:00:00\n",
       "16834     0 days 00:00:00\n",
       "16830     0 days 00:00:00\n",
       "16829     0 days 00:00:00\n",
       "14411     0 days 00:00:00\n",
       "14413     0 days 00:00:00\n",
       "16826     0 days 00:00:00\n",
       "14420     0 days 00:00:00\n",
       "14423     0 days 00:00:00\n",
       "12346     0 days 00:00:00\n",
       "Name: InvoiceDate, Length: 4339, dtype: timedelta64[ns]"
      ]
     },
     "execution_count": 12,
     "metadata": {},
     "output_type": "execute_result"
    }
   ],
   "source": [
    "purchase_timespan.sort_values(ascending=False)"
   ]
  },
  {
   "cell_type": "code",
   "execution_count": 13,
   "metadata": {},
   "outputs": [],
   "source": [
    "purchase_timespan_days = [purchase_timespan[i].days for i in range(len(purchase_timespan))]\n",
    "purchase_timespan_days = np.array(purchase_timespan_days)"
   ]
  },
  {
   "cell_type": "code",
   "execution_count": 14,
   "metadata": {},
   "outputs": [],
   "source": [
    "filtered_data_id = purchase_timespan[purchase_timespan_days>200].index\n",
    "ecommerce_filtered = ecommerce[ecommerce[\"CustomerID\"].isin(filtered_data_id)]"
   ]
  },
  {
   "cell_type": "code",
   "execution_count": 15,
   "metadata": {},
   "outputs": [
    {
     "data": {
      "text/plain": [
       "(263990, 9)"
      ]
     },
     "execution_count": 15,
     "metadata": {},
     "output_type": "execute_result"
    }
   ],
   "source": [
    "ecommerce_filtered.shape"
   ]
  },
  {
   "cell_type": "code",
   "execution_count": 16,
   "metadata": {},
   "outputs": [],
   "source": [
    "from datetime import timedelta"
   ]
  },
  {
   "cell_type": "code",
   "execution_count": 19,
   "metadata": {},
   "outputs": [
    {
     "data": {
      "text/plain": [
       "CustomerID\n",
       "12347    Int64Index([14938, 14939, 14940, 14941, 14942,...\n",
       "12348    Int64Index([34083, 34084, 34085, 34086, 34087,...\n",
       "12352    Int64Index([ 91817,  91818,  91819,  91820,  9...\n",
       "12356    Int64Index([61583, 61584, 61585, 61586, 61587,...\n",
       "12359    Int64Index([54380, 54381, 54382, 54383, 54384,...\n",
       "12362    Int64Index([92687, 92688, 92689, 92690, 92691,...\n",
       "12370    Int64Index([29732, 29733, 29734, 29735, 29736,...\n",
       "12372    Int64Index([91832, 91833, 91834, 91835, 91836,...\n",
       "12388    Int64Index([59113, 59114, 59115, 59116, 59117,...\n",
       "12393    Int64Index([52263, 52264, 52265, 52266, 52267,...\n",
       "12395    Int64Index([ 7279,  7280,  7281,  7282,  7283,...\n",
       "12407    Int64Index([125765, 125766, 125767, 125768, 12...\n",
       "12408    Int64Index([132644, 132645, 132646, 132647, 13...\n",
       "12413    Int64Index([46857, 46858, 46859, 46860, 46861,...\n",
       "12415    Int64Index([45511, 45512, 45513, 45514, 45515,...\n",
       "12417    Int64Index([34461, 34462, 34463, 34464, 34465,...\n",
       "12421    Int64Index([69722, 69723, 69724, 69725, 69726,...\n",
       "12422    Int64Index([63100, 63101, 63102, 63103, 63104,...\n",
       "12423    Int64Index([39761, 39762, 39763, 39764, 39765,...\n",
       "12427    Int64Index([5360, 5361, 5362, 5363, 5364, 5365...\n",
       "12428    Int64Index([105404, 105405, 105406, 105407, 10...\n",
       "12429    Int64Index([20017, 20018, 20019, 20020, 20021,...\n",
       "12431    Int64Index([  197,   198,   199,   200,   201,...\n",
       "12433    Int64Index([ 1236,  1237,  1238,  1239,  1240,...\n",
       "12437    Int64Index([54688, 54689, 54690, 54691, 54692,...\n",
       "12451    Int64Index([62998, 62999, 63000, 63001, 63002,...\n",
       "12455    Int64Index([91370, 91371, 91372, 91373, 91374,...\n",
       "12456    Int64Index([138771, 138772, 138773, 138774, 13...\n",
       "12458    Int64Index([103944, 103945, 103946, 103947, 10...\n",
       "12462    Int64Index([86218, 86219, 86220, 86221, 86222,...\n",
       "                               ...                        \n",
       "18149    Int64Index([117329, 117330, 117331, 117332, 11...\n",
       "18155    Int64Index([96244, 96245, 96246, 96247, 96248,...\n",
       "18156    Int64Index([8261, 8262, 8263, 8264, 8265, 8266...\n",
       "18161    Int64Index([69057, 69058, 69059, 69060, 69061,...\n",
       "18171    Int64Index([50774, 50775, 50776, 50777, 50778,...\n",
       "18172    Int64Index([99162, 99163, 99164, 99165, 99166,...\n",
       "18177    Int64Index([136791, 136792, 136793, 136794, 13...\n",
       "18178    Int64Index([23897, 23898, 23899, 23900, 23901,...\n",
       "18179    Int64Index([48676, 48677, 48678, 48679, 48680,...\n",
       "18188    Int64Index([97969, 97970, 97971, 97972, 97973,...\n",
       "18198    Int64Index([48185, 48186, 48187, 48188, 48189,...\n",
       "18210    Int64Index([122500, 122501, 122502, 122503, 12...\n",
       "18211    Int64Index([110382, 110383, 110384, 110385, 11...\n",
       "18219    Int64Index([10832, 10833, 10834, 10835, 10836,...\n",
       "18223    Int64Index([33728, 33729, 33730, 33731, 33732,...\n",
       "18225    Int64Index([21761, 21762], dtype='int64', name...\n",
       "18226    Int64Index([45411, 45412, 45413, 45414, 45415,...\n",
       "18229    Int64Index([2366, 2367, 2368, 2369, 2370, 2371...\n",
       "18230    Int64Index([86771, 86772, 86773, 86774, 86775,...\n",
       "18236    Int64Index([154542, 154543, 154544, 154545, 15...\n",
       "18241    Int64Index([177172, 177173, 177174, 177175, 17...\n",
       "18245    Int64Index([37739, 37740, 37741, 37742, 37743,...\n",
       "18246    Int64Index([165325, 165326], dtype='int64', na...\n",
       "18257    Int64Index([92208, 92209, 92210, 92211, 92212,...\n",
       "18259    Int64Index([18248, 18249, 18250, 18251, 18252,...\n",
       "18263    Int64Index([142585, 142586, 142587, 142588, 14...\n",
       "18270    Int64Index([124690, 124691, 124692, 124693, 12...\n",
       "18272    Int64Index([148144, 148145, 148146, 148147, 14...\n",
       "18273    Int64Index([134470], dtype='int64', name='Index')\n",
       "18283    Int64Index([46026, 46027, 46028, 46029, 46030,...\n",
       "Name: InvoiceDate, Length: 1469, dtype: object"
      ]
     },
     "execution_count": 19,
     "metadata": {},
     "output_type": "execute_result"
    }
   ],
   "source": [
    "#invoice_date_by_customer = ecommerce_filtered.groupby('CustomerID')['InvoiceDate']\n",
    "#pred_id = invoice_date_by_customer.apply(lambda x:x[x<=(min(x)+timedelta(days=30))].index)\n",
    "#pred_id\n",
    "#temp = [np.array(pred_id[i]) for i in range(len(pred_id))]\n",
    "#temp = np.hstack(temp)\n",
    "#ecommerce_filtered.loc[temp]\n",
    "\n",
    "#label_id = invoice_date_by_customer.apply(lambda x:x[x>(min(x)+timedelta(days=30))].index)"
   ]
  },
  {
   "cell_type": "code",
   "execution_count": 182,
   "metadata": {},
   "outputs": [],
   "source": [
    "columnNames = ['UnitPriceMean', 'UnitPriceStd', 'TotalQuantity', 'NoOfUniqueItems', 'NoOfInvoices',\n",
    "                                'UniqueItemsPerInvoice', 'QuantityPerInvoice', 'SpendingPerInvoice']\n",
    "customer_pattern_pre = pd.DataFrame(columns=columnNames)\n",
    "customer_value = pd.Series()\n",
    "customer_country = pd.Series()\n",
    "for i in ecommerce_filtered[\"CustomerID\"].unique():\n",
    "    temp_customer = ecommerce_filtered[ecommerce_filtered[\"CustomerID\"]==i]\n",
    "    cutoff = min(temp_customer[\"InvoiceDate\"])+timedelta(days=120)\n",
    "    temp_customer_pre = temp_customer[temp_customer[\"InvoiceDate\"] <= cutoff]\n",
    "    temp_customer_post = temp_customer[temp_customer[\"InvoiceDate\"] > cutoff]\n",
    "\n",
    "    temp_customer_pre1 = [temp_customer_pre[\"UnitPrice\"].mean(), temp_customer_pre[\"UnitPrice\"].std(),\n",
    "        temp_customer_pre[\"Quantity\"].sum(), len(temp_customer_pre[\"StockCode\"].unique()),\n",
    "        len(temp_customer_pre[\"InvoiceNo\"].unique()), temp_customer_pre.groupby(\"InvoiceNo\")[\"StockCode\"].nunique().mean(),\n",
    "        temp_customer_pre.groupby(\"InvoiceNo\")[\"Quantity\"].sum().mean(), \n",
    "        temp_customer_pre.groupby(\"InvoiceNo\")[\"TotalPrice\"].sum().mean()]\n",
    "\n",
    "    temp_customer_pre1 = np.array(temp_customer_pre1)\n",
    "    temp_customer_pre1.shape = (1, len(temp_customer_pre1))\n",
    "    temp_customer_pre1 = pd.DataFrame(temp_customer_pre1, columns=columnNames)\n",
    "    \n",
    "    customer_pattern_pre = customer_pattern_pre.append(temp_customer_pre1)\n",
    "    \n",
    "    temp_customer_value = temp_customer_post[\"TotalPrice\"].sum()/temp_customer_pre[\"TotalPrice\"].sum()\n",
    "    customer_value = customer_value.append(pd.Series(temp_customer_value))\n",
    "    customer_country = customer_country.append(pd.Series(temp_customer_pre['Country'].iloc[0]))"
   ]
  },
  {
   "cell_type": "code",
   "execution_count": 183,
   "metadata": {},
   "outputs": [],
   "source": [
    "customer_value.index = [i for i in range(customer_value.shape[0])]\n",
    "customer_country.index = [i for i in range(customer_value.shape[0])]\n",
    "customer_pattern_pre.index = [i for i in range(customer_value.shape[0])]"
   ]
  },
  {
   "cell_type": "code",
   "execution_count": 184,
   "metadata": {},
   "outputs": [
    {
     "data": {
      "text/html": [
       "<div>\n",
       "<style scoped>\n",
       "    .dataframe tbody tr th:only-of-type {\n",
       "        vertical-align: middle;\n",
       "    }\n",
       "\n",
       "    .dataframe tbody tr th {\n",
       "        vertical-align: top;\n",
       "    }\n",
       "\n",
       "    .dataframe thead th {\n",
       "        text-align: right;\n",
       "    }\n",
       "</style>\n",
       "<table border=\"1\" class=\"dataframe\">\n",
       "  <thead>\n",
       "    <tr style=\"text-align: right;\">\n",
       "      <th></th>\n",
       "      <th>UnitPriceMean</th>\n",
       "      <th>UnitPriceStd</th>\n",
       "      <th>TotalQuantity</th>\n",
       "      <th>NoOfUniqueItems</th>\n",
       "      <th>NoOfInvoices</th>\n",
       "      <th>UniqueItemsPerInvoice</th>\n",
       "      <th>QuantityPerInvoice</th>\n",
       "      <th>SpendingPerInvoice</th>\n",
       "    </tr>\n",
       "  </thead>\n",
       "  <tbody>\n",
       "    <tr>\n",
       "      <th>0</th>\n",
       "      <td>4.134921</td>\n",
       "      <td>2.559095</td>\n",
       "      <td>505.0</td>\n",
       "      <td>44.0</td>\n",
       "      <td>5.0</td>\n",
       "      <td>12.600000</td>\n",
       "      <td>101.000000</td>\n",
       "      <td>250.536000</td>\n",
       "    </tr>\n",
       "    <tr>\n",
       "      <th>1</th>\n",
       "      <td>3.281867</td>\n",
       "      <td>4.673614</td>\n",
       "      <td>1719.0</td>\n",
       "      <td>50.0</td>\n",
       "      <td>4.0</td>\n",
       "      <td>18.750000</td>\n",
       "      <td>429.750000</td>\n",
       "      <td>655.107500</td>\n",
       "    </tr>\n",
       "    <tr>\n",
       "      <th>2</th>\n",
       "      <td>2.550000</td>\n",
       "      <td>NaN</td>\n",
       "      <td>80.0</td>\n",
       "      <td>1.0</td>\n",
       "      <td>1.0</td>\n",
       "      <td>1.000000</td>\n",
       "      <td>80.000000</td>\n",
       "      <td>204.000000</td>\n",
       "    </tr>\n",
       "    <tr>\n",
       "      <th>3</th>\n",
       "      <td>6.790784</td>\n",
       "      <td>6.478746</td>\n",
       "      <td>472.0</td>\n",
       "      <td>41.0</td>\n",
       "      <td>7.0</td>\n",
       "      <td>7.285714</td>\n",
       "      <td>67.428571</td>\n",
       "      <td>282.884286</td>\n",
       "    </tr>\n",
       "    <tr>\n",
       "      <th>4</th>\n",
       "      <td>1.899752</td>\n",
       "      <td>1.836582</td>\n",
       "      <td>1491.0</td>\n",
       "      <td>86.0</td>\n",
       "      <td>7.0</td>\n",
       "      <td>17.000000</td>\n",
       "      <td>213.000000</td>\n",
       "      <td>266.394286</td>\n",
       "    </tr>\n",
       "  </tbody>\n",
       "</table>\n",
       "</div>"
      ],
      "text/plain": [
       "   UnitPriceMean  UnitPriceStd  TotalQuantity  NoOfUniqueItems  NoOfInvoices  \\\n",
       "0       4.134921      2.559095          505.0             44.0           5.0   \n",
       "1       3.281867      4.673614         1719.0             50.0           4.0   \n",
       "2       2.550000           NaN           80.0              1.0           1.0   \n",
       "3       6.790784      6.478746          472.0             41.0           7.0   \n",
       "4       1.899752      1.836582         1491.0             86.0           7.0   \n",
       "\n",
       "   UniqueItemsPerInvoice  QuantityPerInvoice  SpendingPerInvoice  \n",
       "0              12.600000          101.000000          250.536000  \n",
       "1              18.750000          429.750000          655.107500  \n",
       "2               1.000000           80.000000          204.000000  \n",
       "3               7.285714           67.428571          282.884286  \n",
       "4              17.000000          213.000000          266.394286  "
      ]
     },
     "execution_count": 184,
     "metadata": {},
     "output_type": "execute_result"
    }
   ],
   "source": [
    "customer_pattern_pre.head()"
   ]
  },
  {
   "cell_type": "code",
   "execution_count": 185,
   "metadata": {},
   "outputs": [
    {
     "data": {
      "text/plain": [
       "(21, 8)"
      ]
     },
     "execution_count": 185,
     "metadata": {},
     "output_type": "execute_result"
    }
   ],
   "source": [
    "customer_pattern_pre[customer_pattern_pre['UnitPriceStd'].isnull()].shape"
   ]
  },
  {
   "cell_type": "code",
   "execution_count": 186,
   "metadata": {},
   "outputs": [],
   "source": [
    "customer_pattern_pre_clean = customer_pattern_pre[~customer_pattern_pre['UnitPriceStd'].isnull()]"
   ]
  },
  {
   "cell_type": "code",
   "execution_count": 187,
   "metadata": {},
   "outputs": [],
   "source": [
    "customer_value_clean = customer_value[customer_pattern_pre[~customer_pattern_pre['UnitPriceStd'].isnull()].index]\n",
    "customer_country_clean = customer_country[customer_pattern_pre[~customer_pattern_pre['UnitPriceStd'].isnull()].index]"
   ]
  },
  {
   "cell_type": "code",
   "execution_count": 188,
   "metadata": {},
   "outputs": [],
   "source": [
    "#from sklearn.preprocessing import StandardScaler\n",
    "#scale = StandardScaler()\n",
    "#customer_normalised = scale.fit_transform(customer_pattern_pre_clean)"
   ]
  },
  {
   "cell_type": "code",
   "execution_count": 189,
   "metadata": {},
   "outputs": [
    {
     "data": {
      "text/html": [
       "<div>\n",
       "<style scoped>\n",
       "    .dataframe tbody tr th:only-of-type {\n",
       "        vertical-align: middle;\n",
       "    }\n",
       "\n",
       "    .dataframe tbody tr th {\n",
       "        vertical-align: top;\n",
       "    }\n",
       "\n",
       "    .dataframe thead th {\n",
       "        text-align: right;\n",
       "    }\n",
       "</style>\n",
       "<table border=\"1\" class=\"dataframe\">\n",
       "  <thead>\n",
       "    <tr style=\"text-align: right;\">\n",
       "      <th></th>\n",
       "      <th>UnitPriceMean</th>\n",
       "      <th>UnitPriceStd</th>\n",
       "      <th>TotalQuantity</th>\n",
       "      <th>NoOfUniqueItems</th>\n",
       "      <th>NoOfInvoices</th>\n",
       "      <th>UniqueItemsPerInvoice</th>\n",
       "      <th>QuantityPerInvoice</th>\n",
       "      <th>SpendingPerInvoice</th>\n",
       "    </tr>\n",
       "  </thead>\n",
       "  <tbody>\n",
       "    <tr>\n",
       "      <th>0</th>\n",
       "      <td>4.134921</td>\n",
       "      <td>2.559095</td>\n",
       "      <td>505.0</td>\n",
       "      <td>44.0</td>\n",
       "      <td>5.0</td>\n",
       "      <td>12.600000</td>\n",
       "      <td>101.000000</td>\n",
       "      <td>250.536000</td>\n",
       "    </tr>\n",
       "    <tr>\n",
       "      <th>1</th>\n",
       "      <td>3.281867</td>\n",
       "      <td>4.673614</td>\n",
       "      <td>1719.0</td>\n",
       "      <td>50.0</td>\n",
       "      <td>4.0</td>\n",
       "      <td>18.750000</td>\n",
       "      <td>429.750000</td>\n",
       "      <td>655.107500</td>\n",
       "    </tr>\n",
       "    <tr>\n",
       "      <th>3</th>\n",
       "      <td>6.790784</td>\n",
       "      <td>6.478746</td>\n",
       "      <td>472.0</td>\n",
       "      <td>41.0</td>\n",
       "      <td>7.0</td>\n",
       "      <td>7.285714</td>\n",
       "      <td>67.428571</td>\n",
       "      <td>282.884286</td>\n",
       "    </tr>\n",
       "    <tr>\n",
       "      <th>4</th>\n",
       "      <td>1.899752</td>\n",
       "      <td>1.836582</td>\n",
       "      <td>1491.0</td>\n",
       "      <td>86.0</td>\n",
       "      <td>7.0</td>\n",
       "      <td>17.000000</td>\n",
       "      <td>213.000000</td>\n",
       "      <td>266.394286</td>\n",
       "    </tr>\n",
       "    <tr>\n",
       "      <th>5</th>\n",
       "      <td>4.044118</td>\n",
       "      <td>2.288687</td>\n",
       "      <td>442.0</td>\n",
       "      <td>15.0</td>\n",
       "      <td>4.0</td>\n",
       "      <td>4.250000</td>\n",
       "      <td>110.500000</td>\n",
       "      <td>465.425000</td>\n",
       "    </tr>\n",
       "  </tbody>\n",
       "</table>\n",
       "</div>"
      ],
      "text/plain": [
       "   UnitPriceMean  UnitPriceStd  TotalQuantity  NoOfUniqueItems  NoOfInvoices  \\\n",
       "0       4.134921      2.559095          505.0             44.0           5.0   \n",
       "1       3.281867      4.673614         1719.0             50.0           4.0   \n",
       "3       6.790784      6.478746          472.0             41.0           7.0   \n",
       "4       1.899752      1.836582         1491.0             86.0           7.0   \n",
       "5       4.044118      2.288687          442.0             15.0           4.0   \n",
       "\n",
       "   UniqueItemsPerInvoice  QuantityPerInvoice  SpendingPerInvoice  \n",
       "0              12.600000          101.000000          250.536000  \n",
       "1              18.750000          429.750000          655.107500  \n",
       "3               7.285714           67.428571          282.884286  \n",
       "4              17.000000          213.000000          266.394286  \n",
       "5               4.250000          110.500000          465.425000  "
      ]
     },
     "execution_count": 189,
     "metadata": {},
     "output_type": "execute_result"
    }
   ],
   "source": [
    "#customer_normalised = pd.DataFrame(customer_normalised, columns=customer_pattern_pre_clean.columns, index=customer_pattern_pre_clean.index)\n",
    "customer_normalised = customer_pattern_pre_clean\n",
    "customer_normalised.head()"
   ]
  },
  {
   "cell_type": "code",
   "execution_count": 191,
   "metadata": {},
   "outputs": [
    {
     "data": {
      "text/plain": [
       "(1448, 8)"
      ]
     },
     "execution_count": 191,
     "metadata": {},
     "output_type": "execute_result"
    }
   ],
   "source": [
    "customer_normalised.shape"
   ]
  },
  {
   "cell_type": "code",
   "execution_count": 205,
   "metadata": {},
   "outputs": [
    {
     "data": {
      "text/plain": [
       "high    735\n",
       "low     713\n",
       "dtype: int64"
      ]
     },
     "execution_count": 205,
     "metadata": {},
     "output_type": "execute_result"
    }
   ],
   "source": [
    "bins = [0, 1.5, max(customer_value_clean)]\n",
    "labels = [\"low\", \"high\"]\n",
    "customer_value_label = pd.cut(customer_value_clean, bins=bins, labels=labels)\n",
    "customer_value_label.value_counts()"
   ]
  },
  {
   "cell_type": "code",
   "execution_count": 206,
   "metadata": {},
   "outputs": [
    {
     "data": {
      "text/plain": [
       "(1448, 3)"
      ]
     },
     "execution_count": 206,
     "metadata": {},
     "output_type": "execute_result"
    }
   ],
   "source": [
    "from sklearn.feature_selection import mutual_info_classif\n",
    "from sklearn.feature_selection import SelectKBest\n",
    "customer_reduced = SelectKBest(mutual_info_classif, 3).fit_transform(customer_normalised, customer_value_label)\n",
    "customer_reduced.shape"
   ]
  },
  {
   "cell_type": "code",
   "execution_count": 207,
   "metadata": {},
   "outputs": [
    {
     "data": {
      "text/plain": [
       "array([0.50684932, 0.54109589, 0.51369863, 0.53103448, 0.51034483,\n",
       "       0.52777778, 0.48611111, 0.52083333, 0.54166667, 0.50694444])"
      ]
     },
     "execution_count": 207,
     "metadata": {},
     "output_type": "execute_result"
    }
   ],
   "source": [
    "from sklearn.naive_bayes import GaussianNB\n",
    "from sklearn.model_selection import cross_val_score\n",
    "nb = GaussianNB()\n",
    "customer_nb_scores = cross_val_score(nb, customer_normalised, customer_value_label, cv=10)\n",
    "customer_nb_scores"
   ]
  },
  {
   "cell_type": "code",
   "execution_count": 208,
   "metadata": {},
   "outputs": [
    {
     "data": {
      "text/plain": [
       "array([0.57534247, 0.63013699, 0.56164384, 0.5862069 , 0.6137931 ,\n",
       "       0.53472222, 0.54166667, 0.63888889, 0.65277778, 0.63888889])"
      ]
     },
     "execution_count": 208,
     "metadata": {},
     "output_type": "execute_result"
    }
   ],
   "source": [
    "from sklearn.ensemble.forest import RandomForestClassifier\n",
    "rf = RandomForestClassifier(n_estimators=100)\n",
    "customer_rf_scores = cross_val_score(rf, customer_normalised, customer_value_label, cv=10)\n",
    "customer_rf_scores"
   ]
  },
  {
   "cell_type": "code",
   "execution_count": 216,
   "metadata": {},
   "outputs": [
    {
     "data": {
      "text/plain": [
       "array([0.54109589, 0.58219178, 0.5       , 0.60689655, 0.62068966,\n",
       "       0.54166667, 0.53472222, 0.63888889, 0.63194444, 0.65277778])"
      ]
     },
     "execution_count": 216,
     "metadata": {},
     "output_type": "execute_result"
    }
   ],
   "source": [
    "from sklearn.ensemble import GradientBoostingClassifier\n",
    "gc = GradientBoostingClassifier(max_depth=3, n_estimators=100)\n",
    "customer_gc_scores = cross_val_score(gc, customer_normalised, customer_value_label, cv=10)\n",
    "customer_gc_scores"
   ]
  },
  {
   "cell_type": "code",
   "execution_count": 217,
   "metadata": {},
   "outputs": [
    {
     "data": {
      "text/plain": [
       "GridSearchCV(cv=10, error_score='raise',\n",
       "       estimator=GradientBoostingClassifier(criterion='friedman_mse', init=None,\n",
       "              learning_rate=0.1, loss='deviance', max_depth=3,\n",
       "              max_features=None, max_leaf_nodes=None,\n",
       "              min_impurity_decrease=0.0, min_impurity_split=None,\n",
       "              min_samples_leaf=1, min_samples_split=2,\n",
       "              min_weight_fraction_leaf=0.0, n_estimators=100,\n",
       "              presort='auto', random_state=None, subsample=1.0, verbose=0,\n",
       "              warm_start=False),\n",
       "       fit_params=None, iid=True, n_jobs=1,\n",
       "       param_grid=[{'max_depth': [1, 2, 3, 4, 5], 'n_estimators': [50, 70, 90, 110]}],\n",
       "       pre_dispatch='2*n_jobs', refit=True, return_train_score='warn',\n",
       "       scoring='accuracy', verbose=0)"
      ]
     },
     "execution_count": 217,
     "metadata": {},
     "output_type": "execute_result"
    }
   ],
   "source": [
    "from sklearn.model_selection import GridSearchCV\n",
    "\n",
    "param_grid = [{'max_depth': [1, 2, 3, 4, 5], 'n_estimators': [50,70,90,110]}]\n",
    "gc_optim = GradientBoostingClassifier()\n",
    "grid_search = GridSearchCV(gc_optim, param_grid, cv=10, scoring='accuracy')\n",
    "grid_search.fit(customer_normalised, customer_value_label)"
   ]
  },
  {
   "cell_type": "code",
   "execution_count": 218,
   "metadata": {},
   "outputs": [
    {
     "data": {
      "text/plain": [
       "{'max_depth': 1, 'n_estimators': 90}"
      ]
     },
     "execution_count": 218,
     "metadata": {},
     "output_type": "execute_result"
    }
   ],
   "source": [
    "grid_search.best_params_"
   ]
  },
  {
   "cell_type": "code",
   "execution_count": 220,
   "metadata": {},
   "outputs": [
    {
     "data": {
      "text/plain": [
       "0.6023489739148691"
      ]
     },
     "execution_count": 220,
     "metadata": {},
     "output_type": "execute_result"
    }
   ],
   "source": [
    "gc = GradientBoostingClassifier(max_depth=1, n_estimators=90)\n",
    "customer_gc_scores = cross_val_score(gc, customer_normalised, customer_value_label, cv=10)\n",
    "customer_gc_scores.mean()"
   ]
  },
  {
   "cell_type": "code",
   "execution_count": 229,
   "metadata": {},
   "outputs": [],
   "source": [
    "gc.fit(customer_normalised, customer_value_label)\n",
    "important_feature = pd.Series(gc.feature_importances_, index=customer_normalised.columns).sort_values(ascending=False)"
   ]
  },
  {
   "cell_type": "code",
   "execution_count": 237,
   "metadata": {},
   "outputs": [
    {
     "data": {
      "text/plain": [
       "NoOfInvoices             0.211111\n",
       "UniqueItemsPerInvoice    0.144444\n",
       "QuantityPerInvoice       0.122222\n",
       "NoOfUniqueItems          0.122222\n",
       "UnitPriceStd             0.111111\n",
       "UnitPriceMean            0.111111\n",
       "SpendingPerInvoice       0.100000\n",
       "TotalQuantity            0.077778\n",
       "dtype: float64"
      ]
     },
     "execution_count": 237,
     "metadata": {},
     "output_type": "execute_result"
    }
   ],
   "source": [
    "important_feature"
   ]
  },
  {
   "cell_type": "code",
   "execution_count": null,
   "metadata": {},
   "outputs": [],
   "source": []
  }
 ],
 "metadata": {
  "kernelspec": {
   "display_name": "Python 3",
   "language": "python",
   "name": "python3"
  },
  "language_info": {
   "codemirror_mode": {
    "name": "ipython",
    "version": 3
   },
   "file_extension": ".py",
   "mimetype": "text/x-python",
   "name": "python",
   "nbconvert_exporter": "python",
   "pygments_lexer": "ipython3",
   "version": "3.6.4"
  }
 },
 "nbformat": 4,
 "nbformat_minor": 2
}
