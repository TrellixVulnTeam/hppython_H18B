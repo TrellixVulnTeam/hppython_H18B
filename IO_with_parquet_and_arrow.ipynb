{
 "cells": [
  {
   "cell_type": "markdown",
   "metadata": {},
   "source": [
    "# Main Problem  \n",
    "- With datasets more than 1GB, file I/O in Pandas starts to slow down\n",
    "\n",
    "## Side-problem\n",
    "- CSVs don't preserve data types like dates. Cleaning each CSV everytime we read in a file takes time\n",
    "\n",
    "[More information from the creator of Pandas](http://wesmckinney.com/blog/apache-arrow-pandas-internals/)"
   ]
  },
  {
   "cell_type": "markdown",
   "metadata": {},
   "source": [
    "# Solution to both problems\n",
    "- Use optimised file formats like Parquet and Arrow\n",
    "- Good to consider BEFORE implementing parallel processing"
   ]
  },
  {
   "cell_type": "markdown",
   "metadata": {},
   "source": [
    "![image](IO-optimise.png)"
   ]
  },
  {
   "cell_type": "code",
   "execution_count": null,
   "metadata": {},
   "outputs": [],
   "source": []
  }
 ],
 "metadata": {
  "kernelspec": {
   "display_name": "Python 3",
   "language": "python",
   "name": "python3"
  },
  "language_info": {
   "codemirror_mode": {
    "name": "ipython",
    "version": 3
   },
   "file_extension": ".py",
   "mimetype": "text/x-python",
   "name": "python",
   "nbconvert_exporter": "python",
   "pygments_lexer": "ipython3",
   "version": "3.6.4"
  }
 },
 "nbformat": 4,
 "nbformat_minor": 2
}
