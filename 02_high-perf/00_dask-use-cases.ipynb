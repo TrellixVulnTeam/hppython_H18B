{
 "cells": [
  {
   "cell_type": "markdown",
   "metadata": {},
   "source": [
    "Use Cases\n",
    "=========\n",
    "\n",
    "Dask is a versatile tool that supports a variety of workloads.  This page\n",
    "contains brief and illustrative examples for how people use Dask in practice.\n",
    "This page emphasizes breadth and hopefully inspires readers to find new ways\n",
    "that Dask can serve them beyond their original intent."
   ]
  },
  {
   "cell_type": "markdown",
   "metadata": {},
   "source": [
    "Overview\n",
    "--------\n",
    "\n",
    "Dask use cases can be roughly divided in the following two categories:\n",
    "\n",
    "1.  Large NumPy/Pandas/Lists with `dask.array`,\n",
    "    `dask.dataframe`, `dask.bag` to analyze large\n",
    "    datasets with familiar techniques.  This is similar to Databases, Spark,\n",
    "    or big array libraries.\n",
    "2.  Custom task scheduling.  You submit a graph of functions that depend on\n",
    "    each other for custom workloads.  This is similar to Luigi, Airflow,\n",
    "    Celery, or Makefiles.\n",
    "\n",
    "Most people today approach Dask assuming it is a framework like Spark, designed\n",
    "for the first use case around large collections of uniformly shaped  data.\n",
    "However, many of the more productive and novel use cases fall into the second\n",
    "category, using Dask to parallelize custom workflows."
   ]
  },
  {
   "cell_type": "markdown",
   "metadata": {},
   "source": [
    "Dask compute environments can be divided into the following two categories:\n",
    "\n",
    "1.  Single machine parallelism with threads or processes:  The Dask\n",
    "    single-machine scheduler leverages the full CPU power of a laptop or a\n",
    "    large workstation and changes the space limitation from \"fits in memory\" to\n",
    "    \"fits on disk\".  This scheduler is simple to use and doesn't have the\n",
    "    computational or conceptual overhead of most \"big data\" systems.\n",
    "2.  Distributed cluster parallelism on multiple nodes:  The Dask distributed\n",
    "    scheduler coordinates the actions of multiple machines on a cluster.  It\n",
    "    scales anywhere from a single machine to a thousand machines, but not\n",
    "    significantly beyond."
   ]
  },
  {
   "cell_type": "markdown",
   "metadata": {},
   "source": [
    "The single machine scheduler is useful to more individuals (more people have\n",
    "personal laptops than have access to clusters) and probably accounts for 80+% of\n",
    "the use of Dask today.  The distributed machine scheduler is useful to larger\n",
    "organizations like universities, research labs, or private companies.\n",
    "\n",
    ".. _Airflow: http://airflow.incubator.apache.org/\n",
    ".. _Luigi: https://luigi.readthedocs.io/en/latest/\n",
    ".. _Celery: http://www.celeryproject.org/\n",
    ".. _Spark: https://spark.apache.org/\n",
    ".. _Makefiles: https://en.wikipedia.org/wiki/Make_(software)"
   ]
  },
  {
   "cell_type": "markdown",
   "metadata": {},
   "source": [
    "more inforation [here:](http://dask.pydata.org/en/latest/use-cases.html) "
   ]
  }
 ],
 "metadata": {
  "kernelspec": {
   "display_name": "Python 3",
   "language": "python",
   "name": "python3"
  },
  "language_info": {
   "codemirror_mode": {
    "name": "ipython",
    "version": 3
   },
   "file_extension": ".py",
   "mimetype": "text/x-python",
   "name": "python",
   "nbconvert_exporter": "python",
   "pygments_lexer": "ipython3",
   "version": "3.6.5"
  }
 },
 "nbformat": 4,
 "nbformat_minor": 2
}
