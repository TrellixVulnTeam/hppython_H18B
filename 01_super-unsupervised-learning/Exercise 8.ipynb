{
 "cells": [
  {
   "cell_type": "code",
   "execution_count": 1,
   "metadata": {},
   "outputs": [],
   "source": [
    "%matplotlib inline\n",
    "import numpy as np\n",
    "import pandas as pd\n",
    "import matplotlib.pyplot as plt\n",
    "import seaborn as sns; sns.set()"
   ]
  },
  {
   "cell_type": "code",
   "execution_count": 2,
   "metadata": {},
   "outputs": [],
   "source": [
    "from sklearn.naive_bayes import GaussianNB\n",
    "from sklearn.tree import DecisionTreeClassifier\n",
    "from sklearn.neighbors import KNeighborsClassifier"
   ]
  },
  {
   "cell_type": "code",
   "execution_count": 3,
   "metadata": {},
   "outputs": [
    {
     "name": "stderr",
     "output_type": "stream",
     "text": [
      "/Users/williamtjhi/anaconda3/lib/python3.6/site-packages/sklearn/cross_validation.py:41: DeprecationWarning: This module was deprecated in version 0.18 in favor of the model_selection module into which all the refactored classes and functions are moved. Also note that the interface of the new CV iterators are different from that of this module. This module will be removed in 0.20.\n",
      "  \"This module will be removed in 0.20.\", DeprecationWarning)\n"
     ]
    }
   ],
   "source": [
    "from sklearn.ensemble import VotingClassifier\n",
    "from sklearn.ensemble import BaggingClassifier\n",
    "from sklearn.ensemble.forest import RandomForestClassifier\n",
    "from sklearn.ensemble import AdaBoostClassifier\n",
    "from sklearn.ensemble import GradientBoostingClassifier\n",
    "from sklearn.cross_validation import cross_val_score"
   ]
  },
  {
   "cell_type": "code",
   "execution_count": 4,
   "metadata": {},
   "outputs": [],
   "source": [
    "from sklearn.datasets import twenty_newsgroups"
   ]
  },
  {
   "cell_type": "code",
   "execution_count": 11,
   "metadata": {},
   "outputs": [],
   "source": [
    "#ng20 = twenty_newsgroups.fetch_20newsgroups(subset='train', categories=['alt.atheism', 'rec.sport.baseball', 'comp.graphics', 'sci.med', 'soc.religion.christian', 'talk.politics.mideast'], remove=['headers','footers','quotes'])\n",
    "ng20 = twenty_newsgroups.fetch_20newsgroups(subset='train', categories=['alt.atheism', 'rec.sport.baseball', 'comp.graphics'], remove=['headers','footers','quotes'])"
   ]
  },
  {
   "cell_type": "code",
   "execution_count": 12,
   "metadata": {},
   "outputs": [
    {
     "data": {
      "text/plain": [
       "['alt.atheism', 'comp.graphics', 'rec.sport.baseball']"
      ]
     },
     "execution_count": 12,
     "metadata": {},
     "output_type": "execute_result"
    }
   ],
   "source": [
    "ng20.target_names"
   ]
  },
  {
   "cell_type": "code",
   "execution_count": 13,
   "metadata": {},
   "outputs": [
    {
     "data": {
      "text/plain": [
       "1661"
      ]
     },
     "execution_count": 13,
     "metadata": {},
     "output_type": "execute_result"
    }
   ],
   "source": [
    "len(ng20.data)"
   ]
  },
  {
   "cell_type": "code",
   "execution_count": 14,
   "metadata": {},
   "outputs": [],
   "source": [
    "from sklearn.feature_extraction.text import CountVectorizer\n",
    "count_vect = CountVectorizer(stop_words='english', max_df=0.95)\n",
    "ng20_occur = count_vect.fit_transform(ng20.data)\n",
    "from sklearn.feature_extraction.text import TfidfTransformer\n",
    "tf_transformer = TfidfTransformer(use_idf=True).fit(ng20_occur)\n",
    "ng20_tfidf = tf_transformer.transform(ng20_occur)"
   ]
  },
  {
   "cell_type": "code",
   "execution_count": 15,
   "metadata": {},
   "outputs": [
    {
     "name": "stderr",
     "output_type": "stream",
     "text": [
      "/Users/williamtjhi/anaconda3/lib/python3.6/site-packages/sklearn/preprocessing/label.py:151: DeprecationWarning: The truth value of an empty array is ambiguous. Returning False, but in future this will result in an error. Use `array.size > 0` to check that an array is not empty.\n",
      "  if diff:\n",
      "/Users/williamtjhi/anaconda3/lib/python3.6/site-packages/sklearn/preprocessing/label.py:151: DeprecationWarning: The truth value of an empty array is ambiguous. Returning False, but in future this will result in an error. Use `array.size > 0` to check that an array is not empty.\n",
      "  if diff:\n",
      "/Users/williamtjhi/anaconda3/lib/python3.6/site-packages/sklearn/preprocessing/label.py:151: DeprecationWarning: The truth value of an empty array is ambiguous. Returning False, but in future this will result in an error. Use `array.size > 0` to check that an array is not empty.\n",
      "  if diff:\n",
      "/Users/williamtjhi/anaconda3/lib/python3.6/site-packages/sklearn/preprocessing/label.py:151: DeprecationWarning: The truth value of an empty array is ambiguous. Returning False, but in future this will result in an error. Use `array.size > 0` to check that an array is not empty.\n",
      "  if diff:\n"
     ]
    },
    {
     "name": "stdout",
     "output_type": "stream",
     "text": [
      "Naive Bayes: \n",
      " [0.91591592 0.8978979  0.90963855 0.9246988  0.89425982] \n",
      "Decision Tree: \n",
      " [0.77477477 0.73873874 0.75301205 0.76506024 0.7673716 ] \n",
      "KNN: \n",
      " [0.42042042 0.38138138 0.35240964 0.36144578 0.3776435 ] \n",
      "Voting Classifier: \n",
      " [0.85285285 0.8048048  0.82831325 0.84939759 0.8489426 ]\n"
     ]
    },
    {
     "name": "stderr",
     "output_type": "stream",
     "text": [
      "/Users/williamtjhi/anaconda3/lib/python3.6/site-packages/sklearn/preprocessing/label.py:151: DeprecationWarning: The truth value of an empty array is ambiguous. Returning False, but in future this will result in an error. Use `array.size > 0` to check that an array is not empty.\n",
      "  if diff:\n"
     ]
    }
   ],
   "source": [
    "nb = GaussianNB()\n",
    "dt = DecisionTreeClassifier()\n",
    "knn = KNeighborsClassifier(n_neighbors=3)\n",
    "\n",
    "ng20_nb_scores = cross_val_score(nb, ng20_tfidf.toarray(), ng20.target, cv=5)\n",
    "ng20_dt_scores = cross_val_score(dt, ng20_tfidf.toarray(), ng20.target, cv=5)\n",
    "ng20_knn_scores = cross_val_score(knn, ng20_tfidf.toarray(), ng20.target, cv=5)\n",
    "\n",
    "vc = VotingClassifier(estimators=[('nb', nb), ('dt', dt), ('knn', knn)], voting='hard')\n",
    "ng20_vc_scores = cross_val_score(vc, ng20_tfidf.toarray(), ng20.target, cv=5)\n",
    "print(\"Naive Bayes: \\n\", ng20_nb_scores\n",
    "     ,\"\\nDecision Tree: \\n\", ng20_dt_scores\n",
    "     ,\"\\nKNN: \\n\", ng20_knn_scores\n",
    "     ,\"\\nVoting Classifier: \\n\", ng20_vc_scores)"
   ]
  },
  {
   "cell_type": "code",
   "execution_count": 16,
   "metadata": {},
   "outputs": [
    {
     "data": {
      "text/plain": [
       "array([0.79640719, 0.81437126, 0.77245509, 0.81437126, 0.79518072,\n",
       "       0.77710843, 0.84939759, 0.80606061, 0.81212121, 0.83636364])"
      ]
     },
     "execution_count": 16,
     "metadata": {},
     "output_type": "execute_result"
    }
   ],
   "source": [
    "bc = BaggingClassifier(dt, n_estimators=50, max_samples=500, bootstrap=True, n_jobs=-1)\n",
    "ng20_bc_scores = cross_val_score(bc, ng20_tfidf.toarray(), ng20.target, cv=10)\n",
    "ng20_bc_scores"
   ]
  },
  {
   "cell_type": "code",
   "execution_count": 17,
   "metadata": {},
   "outputs": [
    {
     "data": {
      "text/plain": [
       "array([0.89221557, 0.89221557, 0.86826347, 0.91017964, 0.84939759,\n",
       "       0.86144578, 0.90361446, 0.90909091, 0.86060606, 0.90909091])"
      ]
     },
     "execution_count": 17,
     "metadata": {},
     "output_type": "execute_result"
    }
   ],
   "source": [
    "rf = RandomForestClassifier(n_estimators=50)\n",
    "ng20_rf_scores = cross_val_score(rf, ng20_tfidf.toarray(), ng20.target, cv=10)\n",
    "ng20_rf_scores"
   ]
  },
  {
   "cell_type": "code",
   "execution_count": null,
   "metadata": {},
   "outputs": [],
   "source": [
    "gc = GradientBoostingClassifier(max_depth=2, n_estimators=50)\n",
    "ng20_gc_scores = cross_val_score(gc, ng20_tfidf.toarray(), ng20.target, cv=10)\n",
    "ng20_gc_scores"
   ]
  },
  {
   "cell_type": "code",
   "execution_count": null,
   "metadata": {},
   "outputs": [],
   "source": []
  }
 ],
 "metadata": {
  "kernelspec": {
   "display_name": "Python 3",
   "language": "python",
   "name": "python3"
  },
  "language_info": {
   "codemirror_mode": {
    "name": "ipython",
    "version": 3
   },
   "file_extension": ".py",
   "mimetype": "text/x-python",
   "name": "python",
   "nbconvert_exporter": "python",
   "pygments_lexer": "ipython3",
   "version": "3.6.4"
  }
 },
 "nbformat": 4,
 "nbformat_minor": 2
}
